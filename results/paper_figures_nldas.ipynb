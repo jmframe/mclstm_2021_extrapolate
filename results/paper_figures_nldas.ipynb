{
 "cells": [
  {
   "cell_type": "code",
   "execution_count": 16,
   "metadata": {},
   "outputs": [],
   "source": [
    "import numpy as np\n",
    "import pandas as pd\n",
    "import pickle as pkl\n",
    "import xarray as xr\n",
    "import copy\n",
    "import os\n",
    "import sys\n",
    "sys.path.append(os.path.realpath('../split-data/'))\n",
    "import return_period_tools as tools\n",
    "import metrics\n",
    "import random\n",
    "import matplotlib as mpl\n",
    "from matplotlib import rcParams\n",
    "rcParams['font.family'] = 'sans-serif'\n",
    "rcParams['font.sans-serif'] = ['Tahoma']\n",
    "font = {'family' : 'sans-serif','size'   : 6}\n",
    "mpl.rc('font', **font)\n",
    "mpl.rcParams['axes.labelsize'] = 6\n",
    "mpl.rcParams['xtick.labelsize'] = 6\n",
    "mpl.rcParams['ytick.labelsize'] = 6\n",
    "mpl.rcParams['legend.fontsize'] = 5\n",
    "mpl.rcParams['lines.markersize'] = 1.5\n",
    "mpl.rcParams['lines.linewidth'] = 1.5\n",
    "mpl.rcParams[\"axes.titlesize\"] = 8\n",
    "mpl.rcParams[\"grid.color\"] = \"#dddddd\"\n",
    "mpl.rcParams[\"grid.linewidth\"] = 0.5\n",
    "import matplotlib.pyplot as plt\n",
    "from mpl_toolkits.axes_grid1 import make_axes_locatable\n"
   ]
  },
  {
   "cell_type": "code",
   "execution_count": 17,
   "metadata": {},
   "outputs": [],
   "source": [
    "#Utility function to create a matplotlib figure with cm sizes\n",
    "\n",
    "def cm2inch(width: float, height: float) -> tuple:\n",
    "    \"\"\"Converts figure size from centimeters to inch.\n",
    "    \n",
    "    Parameters\n",
    "    ----------\n",
    "    width : float\n",
    "        Width of figure in centimeters\n",
    "    height : float\n",
    "        Height of figure in centimeters\n",
    "    \n",
    "    Returns\n",
    "    -------\n",
    "    Tuple[float, float]\n",
    "        Tuple containing width and height in inches\n",
    "    \"\"\"\n",
    "    inch = 2.54\n",
    "    return (width / inch, height / inch)"
   ]
  },
  {
   "cell_type": "code",
   "execution_count": 18,
   "metadata": {},
   "outputs": [
    {
     "data": {
      "text/plain": [
       "'0.16.1'"
      ]
     },
     "execution_count": 18,
     "metadata": {},
     "output_type": "execute_result"
    }
   ],
   "source": [
    "xr.__version__"
   ]
  },
  {
   "cell_type": "code",
   "execution_count": 19,
   "metadata": {},
   "outputs": [],
   "source": [
    "# Convert flow to   CFS mm -> ft     km^2 -> ft^2    hr->s\n",
    "conversion_factor = 0.00328084 * 10763910.41671 / 3600 / 24"
   ]
  },
  {
   "cell_type": "code",
   "execution_count": 20,
   "metadata": {},
   "outputs": [],
   "source": [
    "# Camels attributes with RI information\n",
    "dataName = '../data/camels_attributes.csv'\n",
    "# load the data with pandas\n",
    "pd_attributes = pd.read_csv(dataName, sep=',', index_col='gauge_id')\n",
    "\n",
    "# Add the basin ID as a 8 element string with a leading zero if neccessary\n",
    "basin_id_str = []\n",
    "for a in pd_attributes.index.values:\n",
    "    basin_id_str.append(str(a).zfill(8))\n",
    "pd_attributes['basin_id_str'] = basin_id_str"
   ]
  },
  {
   "cell_type": "code",
   "execution_count": 21,
   "metadata": {
    "scrolled": true
   },
   "outputs": [],
   "source": [
    "#-------------------------------------------------------------------------------------------------\n",
    "frequency_analysis_dict_time_split2 = 'frequency_analysis_dict_time_split2_nldas.pkl'\n",
    "peak_annual_flows_dict_time_split2 = 'peak_annual_flows_dict_time_split2_nldas.pkl'\n",
    "frequency_analysis_dict_return_period_split = 'frequency_analysis_dict_return_period_split_nldas.pkl'\n",
    "peak_annual_flows_dict_return_period_split = 'peak_annual_flows_dict_return_period_split_nldas.pkl'\n",
    "#-------------------------------------------------------------------------------------------------\n",
    "analysis_dict_all={}\n",
    "peak_flows_dict={}\n",
    "load_data=True\n",
    "if load_data:\n",
    "    with open(frequency_analysis_dict_time_split2, 'rb') as fb:\n",
    "        analysis_dict_all['time_split2'] = pkl.load(fb)\n",
    "    with open(peak_annual_flows_dict_time_split2, 'rb') as fb:\n",
    "        peak_flows_dict['time_split2'] = pkl.load(fb)\n",
    "    with open(frequency_analysis_dict_return_period_split, 'rb') as fb:\n",
    "        analysis_dict_all['return_period_split'] = pkl.load(fb)\n",
    "    with open(peak_annual_flows_dict_return_period_split, 'rb') as fb:\n",
    "        peak_flows_dict['return_period_split'] = pkl.load(fb)"
   ]
  },
  {
   "cell_type": "code",
   "execution_count": 22,
   "metadata": {},
   "outputs": [],
   "source": [
    "basin_list = list(analysis_dict_all['return_period_split'].keys())"
   ]
  },
  {
   "cell_type": "code",
   "execution_count": 23,
   "metadata": {},
   "outputs": [],
   "source": [
    "#-------------------------------------------------------------------------------------------------\n",
    "# Set up lists to use in loops\n",
    "models = ['nwm', 'lstm', 'mc', 'sac']\n",
    "flows = ['nwm', 'lstm', 'mc', 'sac', 'obs']\n",
    "models_obs_ri = ['nwm', 'lstm', 'mc', 'sac', 'obs', 'ri']\n",
    "models_ri = ['nwm', 'lstm', 'mc', 'sac', 'ri']\n",
    "#-------------------------------------------------------------------------------------------------\n",
    "\n",
    "all_metrics = ['NSE','MSE','RMSE','KGE','Alpha-NSE','Pearson-r','Beta-NSE','FHV','FMS','FLV','Peak-Timing',\n",
    "               'beta-abs', 'peakQ', 'peakRI', 'peakT', 'peakQ-perc', 'peakRI-perc', 'peakT-abs']"
   ]
  },
  {
   "cell_type": "code",
   "execution_count": 24,
   "metadata": {},
   "outputs": [],
   "source": [
    "analysis_dict={}\n",
    "\n",
    "analysis_dict['time_split2'] = {metric:{model:[] for model in models_ri} for metric in all_metrics}\n",
    "analysis_dict['return_period_split'] = {metric:{model:[] for model in models_ri} for metric in all_metrics}\n",
    "\n",
    "for ib, basin_0str in enumerate(list(analysis_dict_all['return_period_split'].keys())):\n",
    "    for metric in all_metrics:\n",
    "        for model in models_ri:\n",
    "            analysis_dict['return_period_split'][metric][model].extend(analysis_dict_all['return_period_split'][basin_0str][metric][model])\n",
    "\n",
    "for ib, basin_0str in enumerate(list(analysis_dict_all['time_split2'].keys())):\n",
    "    for metric in all_metrics:\n",
    "        for model in models_ri:\n",
    "            analysis_dict['time_split2'][metric][model].extend(analysis_dict_all['time_split2'][basin_0str][metric][model])"
   ]
  },
  {
   "cell_type": "code",
   "execution_count": 25,
   "metadata": {},
   "outputs": [],
   "source": [
    "ylimz_bar = {'NSE':[0,1], 'MSE':[0,7], 'RMSE':[0,3.5], 'KGE':[0,1], 'Alpha-NSE':[0,1], 'Pearson-r':[0,1], \n",
    "         'Beta-NSE':[-0.1,0.1], 'FHV':[-40,10], 'FMS':[-45,0],'FLV':[-60,60], 'Peak-Timing':[0,1],\n",
    "          'beta-abs':[0,0.25], 'peakQ':[-7500, 0], 'peakRI':[-300,150], 'peakT':[-1,1], \n",
    "          'peakQ-perc':[0,0.6], 'peakRI-perc':[0,1], 'peakT-abs':[0,12]}\n",
    "xlimz_freq = {'NSE':[-1,1], 'MSE':[0,1], 'RMSE':[0,0.7], 'KGE':[-1,1], 'Alpha-NSE':[0,1], 'Pearson-r':[0,1], \n",
    "         'Beta-NSE':[-0.4,0.1], 'FHV':[-60,60], 'FMS':[0,-60],'FLV':[-25,25], 'Peak-Timing':[-1,1],\n",
    "          'beta-abs':[0,0.4], 'peakQ':[-20000, 0], 'peakRI':[-300,150], 'peakT':[-1,1], \n",
    "          'peakQ-perc':[0,1], 'peakRI-perc':[0,1.3], 'peakT-abs':[0,2.2]}\n",
    "namz = {'NSE':'Nash–Sutcliffe efficiency', 'MSE':'Mean squared error', 'RMSE':'Root mean squared error', \n",
    "        'KGE':'Kling-Gupta efficiency', 'Alpha-NSE':'Alpha-NSE: Flow variance', 'Pearson-r':'Pearson-r', \n",
    "         'Beta-NSE':'Beta-NSE: Volume bias', 'FHV':'FHV: Top 2 % peak flow bias', \n",
    "         'FMS':'FMS: Bias of FDC midsegment slope','FLV':'FLV: 30 % low flow bias', \n",
    "         'Peak-Timing':'Peak-Timing error','beta-abs':'Absolute volume bias', 'peakQ':'Peak flow error', \n",
    "         'peakRI':'Peak recurrence interval error', 'peakT':'Timing error of peak flow', \n",
    "         'peakQ-perc':'Abs. percent error of peak flow', 'peakRI-perc':'Abs. percent error of recurrence', \n",
    "         'peakT-abs':'Absolute timing error of peak flow'}\n",
    "legend_locz = {'NSE':'upper right', 'MSE':'upper left', 'RMSE':'upper left', \n",
    "        'KGE':'upper right', 'Alpha-NSE':'lower right', 'Pearson-r':'lower right', \n",
    "         'Beta-NSE':'lower left', 'FHV':'lower left', 'FMS':'lower right','FLV':'upper right', \n",
    "         'Peak-Timing':'upper right','beta-abs':'upper right', 'peakQ':'lower left', \n",
    "         'peakRI':'lower left', 'peakT':'lower left', \n",
    "         'peakQ-perc':'upper left', 'peakRI-perc':'upper left', 'peakT-abs':'upper center'}\n",
    "colz = {'NSE':2, 'MSE':1, 'RMSE':1, 'KGE':2, 'Alpha-NSE':2, 'Pearson-r':1, \n",
    "         'Beta-NSE':1, 'FHV':1, 'FMS':1,'FLV':2, 'Peak-Timing':1,\n",
    "          'beta-abs':2, 'peakQ':1, 'peakRI':1, 'peakT':1, \n",
    "          'peakQ-perc':1, 'peakRI-perc':1, 'peakT-abs':1}"
   ]
  },
  {
   "cell_type": "code",
   "execution_count": 26,
   "metadata": {},
   "outputs": [],
   "source": [
    "model_label_list = ['LSTM', 'MC-LSTM', 'SAC-SMA', 'NWM*']\n",
    "model_name_list = ['lstm', 'mc', 'sac', 'nwm']\n",
    "model_colors = ['b', 'orange', 'red', 'red']\n",
    "model_style = ['-', '-', '-', '--']\n",
    "model_name_label_dict = {model_name:model_label for model_name, model_label in \\\n",
    "                         zip(model_name_list,model_label_list)}\n",
    "model_ri_list = ['ri', 'lstm', 'mc', 'sac', 'nwm']\n",
    "train_types = ['time_split2','return_period_split']\n",
    "\n",
    "base_metrics = metrics.get_available_metrics()"
   ]
  },
  {
   "cell_type": "code",
   "execution_count": 27,
   "metadata": {},
   "outputs": [],
   "source": [
    "plot_metrics = ['NSE','KGE','Alpha-NSE','Pearson-r','Beta-NSE','FHV','FMS','FLV','Peak-Timing']\n",
    "ppm = {'NSE':'NSE','KGE':'KGE','Alpha-NSE':'Alpha-NSE',\n",
    "       'Pearson-r':'Pearson-r','Beta-NSE':'Beta-NSE',\n",
    "       'FHV':'FHV','FMS':'FMS','FLV':'FLV','peakT-abs':'Peak-Timing'}"
   ]
  },
  {
   "cell_type": "code",
   "execution_count": 30,
   "metadata": {
    "scrolled": true
   },
   "outputs": [
    {
     "name": "stdout",
     "output_type": "stream",
     "text": [
      "Nash–Sutcliffe efficiency\n",
      "                      LSTM   MC-LSTM   SAC-SMA      NWM*  count\n",
      "1-5 \\n (n=5969)   0.682858  0.682708  0.574540  0.555242   6920\n",
      "5-25 \\n (n=1260)  0.758856  0.749823  0.657096  0.668837   1500\n",
      "25-50 \\n (n=185)  0.764236  0.727460  0.633909  0.713099    210\n",
      "50-100 \\n (n=91)  0.784231  0.748131  0.627079  0.741209    108\n",
      "100+ \\n (n=84)    0.727783  0.658999  0.553966  0.672599     97\n",
      "                      LSTM   MC-LSTM   SAC-SMA      NWM*  count\n",
      "1-5 \\n (n=5969)   0.842283  0.762675  0.655904  0.553421   6900\n",
      "5-25 \\n (n=1260)  0.867352  0.808291  0.698650  0.668672   1487\n",
      "25-50 \\n (n=185)  0.778492  0.761996  0.617210  0.712623    205\n",
      "50-100 \\n (n=91)  0.791842  0.761853  0.628695  0.741209    106\n",
      "100+ \\n (n=84)    0.736164  0.691083  0.550990  0.669049     96\n"
     ]
    },
    {
     "name": "stderr",
     "output_type": "stream",
     "text": [
      "/home/jmframe/programs/anaconda3/envs/mc-paper/lib/python3.7/site-packages/ipykernel_launcher.py:122: UserWarning: FixedFormatter should only be used together with FixedLocator\n",
      "/home/jmframe/programs/anaconda3/envs/mc-paper/lib/python3.7/site-packages/ipykernel_launcher.py:144: UserWarning: FixedFormatter should only be used together with FixedLocator\n"
     ]
    },
    {
     "data": {
      "image/png": "[encoded data removed]",
      "text/plain": [
       "<Figure size 340.157x226.772 with 2 Axes>"
      ]
     },
     "metadata": {
      "needs_background": "light"
     },
     "output_type": "display_data"
    },
    {
     "name": "stdout",
     "output_type": "stream",
     "text": [
      "Abs. percent error of peak flow\n",
      "                      LSTM   MC-LSTM   SAC-SMA      NWM*  count\n",
      "1-5 \\n (n=5969)   0.283669  0.282471  0.315314  0.314965   6920\n",
      "5-25 \\n (n=1260)  0.303181  0.316800  0.440264  0.341139   1500\n",
      "25-50 \\n (n=185)  0.314600  0.425075  0.541265  0.366050    210\n",
      "50-100 \\n (n=91)  0.323679  0.396175  0.577682  0.394460    108\n",
      "100+ \\n (n=84)    0.387294  0.525513  0.650026  0.512890     97\n",
      "                      LSTM   MC-LSTM   SAC-SMA      NWM*  count\n",
      "1-5 \\n (n=5969)   0.150202  0.220831  0.298944  0.314864   6900\n",
      "5-25 \\n (n=1260)  0.168977  0.287331  0.450909  0.340445   1487\n",
      "25-50 \\n (n=185)  0.398098  0.427239  0.565175  0.368957    205\n",
      "50-100 \\n (n=91)  0.415035  0.428081  0.564232  0.394460    106\n",
      "100+ \\n (n=84)    0.433651  0.509316  0.676378  0.513896     96\n"
     ]
    },
    {
     "name": "stderr",
     "output_type": "stream",
     "text": [
      "/home/jmframe/programs/anaconda3/envs/mc-paper/lib/python3.7/site-packages/ipykernel_launcher.py:122: UserWarning: FixedFormatter should only be used together with FixedLocator\n",
      "/home/jmframe/programs/anaconda3/envs/mc-paper/lib/python3.7/site-packages/ipykernel_launcher.py:144: UserWarning: FixedFormatter should only be used together with FixedLocator\n"
     ]
    },
    {
     "data": {
      "image/png": "[encoded data removed]",
      "text/plain": [
       "<Figure size 340.157x226.772 with 2 Axes>"
      ]
     },
     "metadata": {
      "needs_background": "light"
     },
     "output_type": "display_data"
    }
   ],
   "source": [
    "model_label_list = ['LSTM', 'MC-LSTM', 'SAC-SMA', 'NWM*']\n",
    "model_name_list = ['lstm', 'mc', 'sac', 'nwm']\n",
    "model_name_label_dict = {model_name:model_label for model_name, model_label in \\\n",
    "                         zip(model_name_list,model_label_list)}\n",
    "model_ri_list = ['ri', 'lstm', 'mc', 'sac', 'nwm']\n",
    "train_types = ['time_split2','return_period_split']\n",
    "text_locs = {'NSE':[[-0.55, 0.9],[0.6, 0.9]], 'peakQ-perc':[[-0.55, 0.55],[0.6, 0.55]]}\n",
    "\n",
    "ri_list = {}\n",
    "ri_bins = {}\n",
    "count_missing = {train_type:{} for train_type in train_types}\n",
    "#for metric in all_metrics:\n",
    "for metric in  ['NSE', 'peakQ-perc']:\n",
    "    print(namz[metric])\n",
    "    bin_max=[5, 25,50,100,1000000000]\n",
    "    bin_names=['1-5 \\n (n=5969)', '5-25 \\n (n=1260)','25-50 \\n (n=185)','50-100 \\n (n=91)','100+ \\n (n=84)']\n",
    "    ri_list[metric] = {train_type:{model_label:{bin_name:[] for bin_name in bin_names} for \\\n",
    "                           model_label in model_label_list} for train_type in train_types}\n",
    "    ri_bins[metric] = {train_type:{model_label:{bin_name:0 for bin_name in bin_names} for \\\n",
    "                           model_label in model_label_list} for train_type in train_types}\n",
    "    for train_type in train_types:\n",
    "        ri_bins[metric][train_type]['count'] = {bin_name:0 for bin_name in bin_names}\n",
    "    \n",
    "    count_missing['time_split2'][metric] = {model_ri:0 for model_ri in model_ri_list}\n",
    "    for i, ri in enumerate(analysis_dict['time_split2'][metric]['ri']):\n",
    "        if analysis_dict['time_split2'][metric]['ri'][i] is None:\n",
    "            continue\n",
    "        \n",
    "        skip_this=False\n",
    "        for icheck in model_ri_list:\n",
    "            if analysis_dict['time_split2'][metric][icheck][i] is None:\n",
    "                skip_this=True\n",
    "                count_missing['time_split2'][metric][icheck]+=1\n",
    "            if np.isinf(analysis_dict['time_split2'][metric][icheck][i]):\n",
    "                skip_this=True\n",
    "                count_missing['time_split2'][metric][icheck]+=1\n",
    "            if isinstance(analysis_dict['time_split2'][metric][icheck][i], str):\n",
    "                skip_this=True\n",
    "                count_missing['time_split2'][metric][icheck]+=1\n",
    "            if analysis_dict['time_split2'][metric][icheck][i] != analysis_dict['time_split2'][metric][icheck][i]:\n",
    "                skip_this=True\n",
    "                count_missing['time_split2'][metric][icheck]+=1\n",
    "\n",
    "        if skip_this:\n",
    "            continue\n",
    "            skip_this=False\n",
    "\n",
    "        for maxv,bin_name in zip(bin_max, bin_names):\n",
    "            if ri<maxv:\n",
    "                ri_bins[metric]['time_split2']['count'][bin_name]+=1\n",
    "                for model_name, model_label in zip(model_name_list, model_label_list):\n",
    "                    ri_list[metric]['time_split2'][model_label][bin_name].append( \\\n",
    "                                                    analysis_dict['time_split2'][metric][model_name][i])\n",
    "                break\n",
    "                \n",
    "    count_missing['return_period_split'][metric] = {model_ri:0 for model_ri in model_ri_list}\n",
    "    for i, ri in enumerate(analysis_dict['return_period_split'][metric]['ri']):\n",
    "        if analysis_dict['return_period_split'][metric]['ri'][i] is None:\n",
    "            continue\n",
    "        \n",
    "        skip_this=False\n",
    "        for icheck in model_ri_list:\n",
    "            if analysis_dict['return_period_split'][metric][icheck][i] is None:\n",
    "                skip_this=True\n",
    "                count_missing['return_period_split'][metric][icheck]+=1\n",
    "            if np.isinf(analysis_dict['return_period_split'][metric][icheck][i]):\n",
    "                skip_this=True\n",
    "                count_missing['return_period_split'][metric][icheck]+=1\n",
    "            if isinstance(analysis_dict['return_period_split'][metric][icheck][i], str):\n",
    "                skip_this=True\n",
    "                count_missing['return_period_split'][metric][icheck]+=1\n",
    "            if analysis_dict['return_period_split'][metric][icheck][i] != analysis_dict['return_period_split'][metric][icheck][i]:\n",
    "                skip_this=True\n",
    "                count_missing['return_period_split'][metric][icheck]+=1\n",
    "\n",
    "        if skip_this:\n",
    "            continue\n",
    "            skip_this=False\n",
    "\n",
    "        for maxv,bin_name in zip(bin_max, bin_names):\n",
    "            if ri<maxv:\n",
    "                ri_bins[metric]['return_period_split']['count'][bin_name]+=1\n",
    "                for model_name, model_label in zip(model_name_list, model_label_list):\n",
    "                    ri_list[metric]['return_period_split'][model_label][bin_name].append( \\\n",
    "                                                        analysis_dict['return_period_split'][metric][model_name][i])\n",
    "                break\n",
    "                                \n",
    "                \n",
    "    for maxv,bin_name in zip(bin_max, bin_names):\n",
    "        if ri_bins[metric]['time_split2']['count'][bin_name] < 1:\n",
    "            continue\n",
    "        for model_label in model_label_list:\n",
    "            if metric == 'peakT-abs':\n",
    "                ri_bins[metric]['time_split2'][model_label][bin_name] = np.nanmean( \\\n",
    "                                                            ri_list[metric]['time_split2'][model_label][bin_name])            \n",
    "            else:\n",
    "                ri_bins[metric]['time_split2'][model_label][bin_name] = np.nanmedian( \\\n",
    "                                                            ri_list[metric]['time_split2'][model_label][bin_name])\n",
    "        if ri_bins[metric]['return_period_split']['count'][bin_name] < 1:\n",
    "            continue\n",
    "        for model_label in model_label_list:\n",
    "            if metric == 'Peak-Timing':\n",
    "                ri_bins[metric]['return_period_split'][model_label][bin_name] = np.nanmean( \\\n",
    "                                                            ri_list[metric]['return_period_split'][model_label][bin_name])            \n",
    "            else:\n",
    "                ri_bins[metric]['return_period_split'][model_label][bin_name] = np.nanmedian( \\\n",
    "                                                            ri_list[metric]['return_period_split'][model_label][bin_name])\n",
    "\n",
    "    fig = plt.figure(figsize=cm2inch(12,8))\n",
    "    print(pd.DataFrame(ri_bins[metric]['time_split2']))\n",
    "    ax = fig.add_subplot(1, 2, 1)    \n",
    "    plt_df = pd.DataFrame(ri_bins[metric]['time_split2'])[model_label_list]\n",
    "    x = np.arange(len(list(plt_df.index.values)))  # the label locations\n",
    "    width = 0.15  # the width of the bars\n",
    "    bar1 = ax.bar(x - 2*width, plt_df.loc[:,'LSTM'], width, label='LSTM')\n",
    "    bar2 = ax.bar(x - width, plt_df.loc[:,'MC-LSTM'], width, label='MC-LSTM')\n",
    "    bar3 = ax.bar(x, plt_df.loc[:,'SAC-SMA'], width, label='SAC-SMA')\n",
    "    bar4 = ax.bar(x + width, plt_df.loc[:,'NWM*'], width, label='NWM*', \n",
    "                  hatch=\"\\\\\", color='white', edgecolor='black')\n",
    "    ax.set_ylabel(namz[metric])\n",
    "    ax.set_xlabel('Return period (years)')\n",
    "    ax.set_xticklabels(bin_names, rotation = 45)\n",
    "    ax.set_ylim(ylimz_bar[metric])\n",
    "    ax.legend(loc=legend_locz[metric], ncol=colz[metric], fontsize=5.5)\n",
    "    ax.set_title('Time split')\n",
    "    \n",
    "    print(pd.DataFrame(ri_bins[metric]['return_period_split']))\n",
    "    ax = fig.add_subplot(1, 2, 2)\n",
    "    \n",
    "    ax.axvline(x=0.4, color='k', linestyle='--')\n",
    "    ax.text(text_locs[metric][0][0], text_locs[metric][0][1], 'train')\n",
    "    ax.text(text_locs[metric][1][0], text_locs[metric][1][1], 'test')\n",
    "\n",
    "    plt_df = pd.DataFrame(ri_bins[metric]['return_period_split'])[model_label_list]\n",
    "    x = np.arange(len(list(plt_df.index.values)))  # the label locations\n",
    "    width = 0.15  # the width of the bars\n",
    "    bar1 = ax.bar(x - 2*width, plt_df.loc[:,'LSTM'], width, label='LSTM')\n",
    "    bar2 = ax.bar(x - width, plt_df.loc[:,'MC-LSTM'], width, label='MC-LSTM')\n",
    "    bar3 = ax.bar(x, plt_df.loc[:,'SAC-SMA'], width, label='SAC-SMA')\n",
    "    bar4 = ax.bar(x + width, plt_df.loc[:,'NWM*'], width, label='NWM*', \n",
    "                  hatch=\"\\\\\", color='white', edgecolor='black')\n",
    "    ax.set_ylabel(namz[metric])\n",
    "    ax.set_xlabel('Return period (years)')\n",
    "    ax.set_xticklabels(bin_names, rotation = 45)\n",
    "    ax.set_ylim(ylimz_bar[metric])\n",
    "#    ax.legend(loc=legend_locz[metric], ncol=colz[metric], fontsize=5.5)\n",
    "    ax.set_title('Return period split')\n",
    "            \n",
    "    fig.tight_layout(pad=1.0)\n",
    "    fig.savefig('../figs/bars_{}_nldas.pdf'.format(metric), dpi=600)\n",
    "    fig.savefig('../figs/bars_{}_nldas.png'.format(metric), dpi=600)\n",
    "    plt.show()\n",
    "    plt.close()"
   ]
  },
  {
   "cell_type": "code",
   "execution_count": 48,
   "metadata": {},
   "outputs": [
    {
     "name": "stderr",
     "output_type": "stream",
     "text": [
      "/home/jmframe/programs/anaconda3/envs/mc-paper/lib/python3.7/site-packages/ipykernel_launcher.py:78: UserWarning: FixedFormatter should only be used together with FixedLocator\n"
     ]
    },
    {
     "data": {
      "image/png": "[encoded data removed]",
      "text/plain": [
       "<Figure size 340.157x340.157 with 9 Axes>"
      ]
     },
     "metadata": {
      "needs_background": "light"
     },
     "output_type": "display_data"
    },
    {
     "name": "stderr",
     "output_type": "stream",
     "text": [
      "/home/jmframe/programs/anaconda3/envs/mc-paper/lib/python3.7/site-packages/ipykernel_launcher.py:78: UserWarning: FixedFormatter should only be used together with FixedLocator\n"
     ]
    },
    {
     "data": {
      "image/png": "[encoded data removed]",
      "text/plain": [
       "<Figure size 340.157x340.157 with 9 Axes>"
      ]
     },
     "metadata": {
      "needs_background": "light"
     },
     "output_type": "display_data"
    }
   ],
   "source": [
    "# Big tables for each training type\n",
    "\n",
    "count_missing = {train_type:{} for train_type in train_types}\n",
    "for train_type in train_types:\n",
    "    \n",
    "    fig = plt.figure(figsize=cm2inch(12,12))\n",
    "    \n",
    "    ri_list = {metric:{} for metric in all_metrics}\n",
    "    ri_bins = {metric:{} for metric in all_metrics}\n",
    "    for imetric, metric in enumerate(plot_metrics):\n",
    "        bin_max=[5, 25,50,100,1000000000]\n",
    "        bin_names=['1-5', '5-25','25-50','50-100','100+']\n",
    "        ri_list[metric][train_type] = {model_label:{bin_name:[] for bin_name in bin_names} for \\\n",
    "                                       model_label in model_label_list}\n",
    "        ri_bins[metric][train_type] = {model_label:{bin_name:[] for bin_name in bin_names} for \\\n",
    "                                       model_label in model_label_list}\n",
    "\n",
    "        ri_bins[metric][train_type]['count'] = {bin_name:0 for bin_name in bin_names}\n",
    "\n",
    "        count_missing[train_type][metric] = {model_ri:0 for model_ri in model_ri_list}\n",
    "        for i, ri in enumerate(analysis_dict[train_type][metric]['ri']):\n",
    "            if analysis_dict[train_type][metric]['ri'][i] is None:\n",
    "                continue\n",
    "\n",
    "            skip_this=False\n",
    "            for icheck in model_ri_list:\n",
    "                if analysis_dict[train_type][metric][icheck][i] is None:\n",
    "                    skip_this=True\n",
    "                    count_missing[train_type][metric][icheck]+=1\n",
    "                if np.isinf(analysis_dict[train_type][metric][icheck][i]):\n",
    "                    skip_this=True\n",
    "                    count_missing[train_type][metric][icheck]+=1\n",
    "                if isinstance(analysis_dict[train_type][metric][icheck][i], str):\n",
    "                    skip_this=True\n",
    "                    count_missing[train_type][metric][icheck]+=1\n",
    "                if analysis_dict[train_type][metric][icheck][i] != \\\n",
    "                                     analysis_dict[train_type][metric][icheck][i]:\n",
    "                    skip_this=True\n",
    "                    count_missing[train_type][metric][icheck]+=1\n",
    "\n",
    "            if skip_this:\n",
    "                continue\n",
    "                skip_this=False\n",
    "\n",
    "            for maxv,bin_name in zip(bin_max, bin_names):\n",
    "                if ri<maxv:\n",
    "                    ri_bins[metric][train_type]['count'][bin_name]+=1\n",
    "                    for model_name, model_label in zip(model_name_list, model_label_list):\n",
    "                        ri_list[metric][train_type][model_label][bin_name].append( \\\n",
    "                                                        analysis_dict[train_type][metric][model_name][i])\n",
    "                    break\n",
    "\n",
    "\n",
    "        for maxv,bin_name in zip(bin_max, bin_names):\n",
    "            if ri_bins[metric][train_type]['count'][bin_name] < 1:\n",
    "                continue\n",
    "            for model_label in model_label_list:\n",
    "                if metric in ['Peak-Timing', 'peakT-abs']:\n",
    "                    ri_bins[metric][train_type][model_label][bin_name] = np.nanmean( \\\n",
    "                                                ri_list[metric][train_type][model_label][bin_name])\n",
    "                else:\n",
    "                    ri_bins[metric][train_type][model_label][bin_name] = np.nanmedian( \\\n",
    "                                                ri_list[metric][train_type][model_label][bin_name])\n",
    "                \n",
    "        ax = fig.add_subplot(3, 3, imetric+1)    \n",
    "\n",
    "#        pd.DataFrame(ri_bins[metric][train_type])[model_label_list].plot.bar(ax=ax)\n",
    "        plt_df = pd.DataFrame(ri_bins[metric][train_type])[model_label_list]\n",
    "        x = np.arange(len(list(plt_df.index.values)))  # the label locations\n",
    "        width = 0.15  # the width of the bars\n",
    "        bar1 = ax.bar(x - 2*width, plt_df.loc[:,'LSTM'], width, label='LSTM')\n",
    "        bar2 = ax.bar(x - width, plt_df.loc[:,'MC-LSTM'], width, label='MC-LSTM')\n",
    "        bar3 = ax.bar(x, plt_df.loc[:,'SAC-SMA'], width, label='SAC-SMA')\n",
    "        bar4 = ax.bar(x + width, plt_df.loc[:,'NWM*'], width, label='NWM*', \n",
    "                      hatch=\"\\\\\", color='white', edgecolor='black', linewidth=0.5)\n",
    "\n",
    "        if imetric+1 in [7,8,9]:\n",
    "            ax.set_xticklabels(bin_names, rotation = 45)\n",
    "            ax.set_xlabel(\"Return period\")\n",
    "        else:\n",
    "            ax.set_xticklabels([])\n",
    "\n",
    "        ax.set_title(metric)\n",
    "        ax.set_ylim(ylimz_bar[metric])\n",
    "        if metric =='FMS':\n",
    "            ax.legend(fontsize=4, ncol=2, loc='lower right')\n",
    "#         else:\n",
    "#             ax.get_legend().remove()\n",
    "\n",
    "        if train_type == \"return_period_split\":\n",
    "            ax.axvline(x=0.5, color='k', linestyle='--', lw=0.3)\n",
    "            \n",
    "    fig.tight_layout(pad=1)\n",
    "    fig.savefig('../figs/bars_{}_training_nldas.pdf'.format(train_type), dpi=600)\n",
    "    fig.savefig('../figs/bars_{}_training_nldas.png'.format(train_type), dpi=600)\n",
    "    plt.show()\n",
    "    plt.close()"
   ]
  },
  {
   "cell_type": "code",
   "execution_count": 35,
   "metadata": {},
   "outputs": [],
   "source": [
    "with open('./model_output_for_analysis/nwm_chrt_v2_1d_local.p', 'rb') as fb:\n",
    "    nwm_results = pkl.load(fb)\n",
    "    \n",
    "with open('./model_output_for_analysis/lstm_time_split2_nldas.p', 'rb') as fb:\n",
    "    lstm_results_time_split2 = pkl.load(fb)\n",
    "with open('./model_output_for_analysis/mclstm_time_split2_nldas.p', 'rb') as fb:\n",
    "    mclstm_results_time_split2 = pkl.load(fb)\n",
    "with open('./model_output_for_analysis/sacsma_time_split2_nldas.p', 'rb') as fb:\n",
    "    sacsma_results_time_split2 = pkl.load(fb)"
   ]
  },
  {
   "cell_type": "code",
   "execution_count": 36,
   "metadata": {},
   "outputs": [],
   "source": [
    "forcing_dir = '/home/NearingLab/data/camels_data/basin_dataset_public_v1p2/basin_mean_forcing/nldas_all_basins_in_one_directory/'\n",
    "\n",
    "total_mass_error = {'absolute':{flow:[] for flow in flows}, \n",
    "              'positive':{flow:[] for flow in flows}, \n",
    "              'negative':{flow:[] for flow in flows}}\n",
    "\n",
    "total_mass = {}\n",
    "\n",
    "cumulative_mass_all = {}\n",
    "\n",
    "labelz={'nwm':'NWM*', 'lstm':'LSTM', 'mc':'MC-LSTM','sac':'SAC-SMA', 'obs':'Observed'}\n",
    "\n",
    "start_date = pd.Timestamp('1996-10-01')\n",
    "end_date = pd.Timestamp('2014-01-01')\n",
    "\n",
    "plot_cum_mass = False\n",
    "\n",
    "first_basin = True\n",
    "\n",
    "read_values = True\n",
    "if read_values:\n",
    "    with open('total_mass_error_nldas.pkl', 'rb') as fb:\n",
    "        total_mass_error = pkl.load(fb)\n",
    "    with open('total_mass_nldas.pkl', 'rb') as fb:\n",
    "        total_mass = pkl.load(fb)\n",
    "    with open('cumulative_mass_all_nldas.pkl', 'rb') as fb: \n",
    "        cumulative_mass_all = pkl.load(fb)\n",
    "else:\n",
    "    for basin_0str in list(analysis_dict_all['return_period_split'].keys()):\n",
    "        basin_int = int(basin_0str)\n",
    "        print(basin_0str)\n",
    "\n",
    "        #-------------------------------------------------------------------------------------------------\n",
    "        # Reset the total mass to zero for this basin    \n",
    "        cumulative_mass = {flow:[0] for flow in flows}\n",
    "        cumulative_mass['precip'] = [0]\n",
    "        total_mass[basin_0str] = {flow:0 for flow in flows}\n",
    "        imass=1\n",
    "        #-------------------------------------------------------------------------------------------------\n",
    "\n",
    "\n",
    "        #-------------------------------------------------------------------------------------------------\n",
    "        # We need the basin area to convert to CFS, to interpolate the RI from LPIII\n",
    "        basin_area = pd_attributes.loc[basin_int, 'area_geospa_fabric']\n",
    "        basin_str = tools.gauge_id_str(basin_int)\n",
    "        #-------------------------------------------------------------------------------------------------\n",
    "\n",
    "        #-------------------------------------------------------------------------------------------------\n",
    "        # Make dictionary with all the flows\n",
    "        flow_mm = {}    \n",
    "        #-------------------------------------------------------------------------------------------------\n",
    "        # Get the NWM data for this basin in an xarray dataset.\n",
    "        xr_nwm = xr.DataArray(nwm_results[basin_0str]['streamflow'].values, \n",
    "                 coords=[nwm_results[basin_0str]['streamflow'].index], \n",
    "                 dims=['datetime'])\n",
    "        # convert from CFS to mm/day\n",
    "        # fm3/s * 3600 sec/hour * 24 hour/day / (m2 * mm/m)\n",
    "        flow_mm['nwm'] = xr_nwm.loc[start_date:end_date]*3600*24/(basin_area*1000)\n",
    "        #-------------------------------------------------------------------------------------------------\n",
    "        # Standard LSTM \n",
    "        xrr = lstm_results_time_split2[basin_0str]['1D']['xr']['QObs(mm/d)_sim'].loc[start_date:end_date]\n",
    "        flow_mm['lstm'] = pd.DataFrame(data=xrr.values,index=xrr.date.values)\n",
    "        #-------------------------------------------------------------------------------------------------\n",
    "        # Mass-conserving LSTM data trained on all years\n",
    "        xrr = mclstm_results_time_split2[basin_0str]['1D']['xr']['QObs(mm/d)_sim'].loc[start_date:end_date]\n",
    "        flow_mm['mc'] = pd.DataFrame(data=xrr.values,index=xrr.date.values)\n",
    "        #-------------------------------------------------------------------------------------------------\n",
    "        # SACSMA Mean\n",
    "        df = sacsma_results_time_split2[basin_0str].loc[start_date:end_date]\n",
    "        flow_mm['sac'] = df\n",
    "        #-------------------------------------------------------------------------------------------------\n",
    "        # OBSERVATIONS\n",
    "        xrr = mclstm_results_time_split2[basin_0str]['1D']['xr']['QObs(mm/d)_obs'].loc[start_date:end_date]\n",
    "        flow_mm['obs'] = pd.DataFrame(data=xrr.values,index=xrr.date.values)\n",
    "        #-------------------------------------------------------------------------------------------------\n",
    "        # FORCING\n",
    "        forcing = pd.read_csv(forcing_dir+basin_0str+'_lump_nldas_forcing_leap.txt', delim_whitespace=True, header=3)\n",
    "        forcing = forcing.iloc[6118:]\n",
    "        forcing.index=pd.to_datetime((forcing.Year*10000+forcing.Mnth*100+forcing.Day).apply(str),format='%Y%m%d')\n",
    "        #-------------------------------------------------------------------------------------------------\n",
    "\n",
    "        \n",
    "        #-------------------------------------------------------------------------------------------------\n",
    "        # Make sure we are in a time period that all the flow members have values\n",
    "        # If there is missin observations than we can't compare the mass of the observed with simulaitons\n",
    "        skip_basin_because_missing_obs = False\n",
    "        for d in mclstm_results_time_split2[basin_0str]['1D']['xr']['QObs(mm/d)_obs'].date:\n",
    "            if d.values < start_date:\n",
    "                continue\n",
    "            if d.values > end_date:\n",
    "                break\n",
    "            if np.isnan(flow_mm['obs'].loc[d.values].values[0]):\n",
    "                skip_basin_because_missing_obs = True\n",
    "                break\n",
    "            else:\n",
    "                #-------------------------------------------------------------------------------------------------\n",
    "                # Keep track of the cumulative mass and add it to the list\n",
    "                cumulative_mass['precip'].append(forcing['PRCP(mm/day)'].loc[d.values] + \\\n",
    "                                                 cumulative_mass['precip'][imass-1])\n",
    "\n",
    "                cumulative_mass['obs'].append(flow_mm['obs'].loc[d.values].values[0] + \\\n",
    "                                              cumulative_mass['obs'][imass-1])\n",
    "\n",
    "                cumulative_mass['nwm'].append(flow_mm['nwm'].loc[d.values].values + \\\n",
    "                                              cumulative_mass['nwm'][imass-1])\n",
    "\n",
    "                cumulative_mass['lstm'].append(flow_mm['lstm'].loc[d.values].values[0] + \\\n",
    "                                               cumulative_mass['lstm'][imass-1])\n",
    "\n",
    "                cumulative_mass['mc'].append(flow_mm['mc'].loc[d.values].values[0] + \\\n",
    "                                             cumulative_mass['mc'][imass-1])\n",
    "\n",
    "                cumulative_mass['sac'].append(flow_mm['sac'].loc[d.values] + \\\n",
    "                                              cumulative_mass['sac'][imass-1])\n",
    "                imass+=1\n",
    "                #-------------------------------------------------------------------------------------------------\n",
    "\n",
    "        #-------------------------------------------------------------------------------------------------\n",
    "        # If there is missin observations than we can't compare the mass of the observed with simulaitons            \n",
    "        if skip_basin_because_missing_obs:\n",
    "            print(\"skipping basin {} because of missing observations\".format(basin_0str))\n",
    "            continue\n",
    "\n",
    "            \n",
    "        for flow in flows:\n",
    "            total_mass[basin_0str][flow] = np.nansum(flow_mm[flow].loc[start_date:end_date])\n",
    "\n",
    "        for flow in flows:\n",
    "            total_mass_error['absolute'][flow].append(np.abs(total_mass[basin_0str][flow] - \\\n",
    "                                                             total_mass[basin_0str]['obs'])/ \\\n",
    "                                                             total_mass[basin_0str]['obs'])\n",
    "            if (total_mass[basin_0str][flow] - total_mass[basin_0str]['obs']) > 0:\n",
    "                total_mass_error['positive'][flow].append((total_mass[basin_0str][flow] - \\\n",
    "                                                           total_mass[basin_0str]['obs'])/ \\\n",
    "                                                           total_mass[basin_0str]['obs'])\n",
    "                total_mass_error['negative'][flow].append(0)\n",
    "            else:\n",
    "                total_mass_error['negative'][flow].append((total_mass[basin_0str][flow] - \\\n",
    "                                                           total_mass[basin_0str]['obs']) / \\\n",
    "                                                           total_mass[basin_0str]['obs'])\n",
    "                total_mass_error['positive'][flow].append(0)\n",
    "                    \n",
    "        # _______________________________________________________________________\n",
    "        # Keep track of all the cumulative mass through time for each basin\n",
    "        if first_basin and not skip_basin_because_missing_obs:\n",
    "            for flow in flows:\n",
    "                cumulative_mass_all[flow] = np.array(cumulative_mass[flow])\n",
    "            cumulative_mass_all['precip'] = np.array(cumulative_mass['precip'])\n",
    "            first_basin = False\n",
    "        if  not skip_basin_because_missing_obs and not first_basin:\n",
    "            for flow in flows:\n",
    "                cumulative_mass_all[flow] += np.array(cumulative_mass[flow])\n",
    "            cumulative_mass_all['precip'] +=np.array(cumulative_mass['precip'])\n",
    "                    \n",
    "        if plot_cum_mass:\n",
    "            fig = plt.figure(figsize=cm2inch(8.3,8))\n",
    "            for flow in flows:\n",
    "                plt.plot(cumulative_mass[flow], label=labelz[flow])\n",
    "            plt.plot(cumulative_mass['precip'], label='Precipitation')\n",
    "            plt.legend()\n",
    "            plt.title(basin_0str)\n",
    "            plt.ylabel('total water [mm]')\n",
    "            plt.xlabel('simulation time (days)')\n",
    "            fig.tight_layout()\n",
    "            plt.show()\n",
    "            plt.close()\n",
    "            \n",
    "dump_values = True\n",
    "if dump_values:\n",
    "    with open('total_mass_error_nldas.pkl', 'wb') as fb:\n",
    "        pkl.dump(total_mass_error, fb)\n",
    "    with open('total_mass_nldas.pkl', 'wb') as fb:\n",
    "        pkl.dump(total_mass, fb)\n",
    "    with open('cumulative_mass_all_nldas.pkl', 'wb') as fb:\n",
    "        pkl.dump(cumulative_mass_all, fb)\n"
   ]
  },
  {
   "cell_type": "code",
   "execution_count": 37,
   "metadata": {},
   "outputs": [
    {
     "name": "stdout",
     "output_type": "stream",
     "text": [
      "error type:  absolute\n",
      "lstm\n",
      "mean, median, max, min\n",
      "0.1426 0.104 1.5041 0.0009\n",
      "mc\n",
      "mean, median, max, min\n",
      "0.1383 0.0976 1.0764 0.0005\n",
      "sac\n",
      "mean, median, max, min\n",
      "0.1669 0.1279 1.264 0.0003\n",
      "nwm\n",
      "mean, median, max, min\n",
      "0.2032 0.1256 11.8109 0.0001\n",
      "error type:  positive\n",
      "lstm\n",
      "mean, median, max, min\n",
      "0.0927 0.021 1.5041 0.0\n",
      "mc\n",
      "mean, median, max, min\n",
      "0.0691 0.0 1.0764 0.0\n",
      "sac\n",
      "mean, median, max, min\n",
      "0.0929 0.0 1.264 0.0\n",
      "nwm\n",
      "mean, median, max, min\n",
      "0.111 0.0 11.8109 0.0\n",
      "error type:  negative\n",
      "lstm\n",
      "mean, median, max, min\n",
      "-0.0499 0.0 0.0 -0.533\n",
      "mc\n",
      "mean, median, max, min\n",
      "-0.0692 -0.023 0.0 -0.7623\n",
      "sac\n",
      "mean, median, max, min\n",
      "-0.074 -0.0043 0.0 -0.6914\n",
      "nwm\n",
      "mean, median, max, min\n",
      "-0.0922 -0.0206 0.0 -0.8764\n"
     ]
    }
   ],
   "source": [
    "total_mass_error_dict = {}\n",
    "for iplot, error_type in enumerate(['absolute', 'positive', 'negative']):\n",
    "    print(\"error type: \", error_type)\n",
    "    error_means = {}\n",
    "    for tme_key in ['lstm', 'mc', 'sac', 'nwm']:\n",
    "        print(tme_key)\n",
    "        print('mean, median, max, min')\n",
    "        print(np.round(np.mean(total_mass_error[error_type][tme_key]),4), \n",
    "              np.round(np.median(total_mass_error[error_type][tme_key]),4),\n",
    "              np.round(np.max(total_mass_error[error_type][tme_key]),4),\n",
    "              np.round(np.min(total_mass_error[error_type][tme_key]),4))\n",
    "        error_means[tme_key] = np.round(np.mean(total_mass_error[error_type][tme_key]),4)\n",
    "    total_mass_error_dict[error_type] = error_means"
   ]
  },
  {
   "cell_type": "code",
   "execution_count": 38,
   "metadata": {},
   "outputs": [
    {
     "data": {
      "text/plain": [
       "{'absolute': {'lstm': 0.1426, 'mc': 0.1383, 'sac': 0.1669, 'nwm': 0.2032},\n",
       " 'positive': {'lstm': 0.0927, 'mc': 0.0691, 'sac': 0.0929, 'nwm': 0.111},\n",
       " 'negative': {'lstm': -0.0499, 'mc': -0.0692, 'sac': -0.074, 'nwm': -0.0922}}"
      ]
     },
     "execution_count": 38,
     "metadata": {},
     "output_type": "execute_result"
    }
   ],
   "source": [
    "total_mass_error_dict"
   ]
  },
  {
   "cell_type": "code",
   "execution_count": 39,
   "metadata": {},
   "outputs": [],
   "source": [
    "error_plot_df = pd.DataFrame(total_mass_error_dict).transpose()\n",
    "error_plot_df = error_plot_df.rename(columns={'lstm':'LSTM', 'mc':'MC-LSTM', 'sac':'SAC-SMA', 'nwm':'NWM*'})"
   ]
  },
  {
   "cell_type": "code",
   "execution_count": 40,
   "metadata": {},
   "outputs": [],
   "source": [
    "# Set up lists to use in loops\n",
    "models = ['lstm', 'mc', 'sac', 'nwm']\n",
    "flows = ['lstm', 'mc', 'sac', 'nwm', 'obs']\n",
    "models_obs_ri = ['lstm', 'mc', 'sac', 'nwm', 'obs', 'ri']\n",
    "models_ri = ['lstm', 'mc', 'sac', 'nwm', 'ri']"
   ]
  },
  {
   "cell_type": "code",
   "execution_count": 52,
   "metadata": {},
   "outputs": [
    {
     "data": {
      "image/png": "[encoded data removed]",
      "text/plain": [
       "<Figure size 340.157x340.157 with 4 Axes>"
      ]
     },
     "metadata": {
      "needs_background": "light"
     },
     "output_type": "display_data"
    }
   ],
   "source": [
    "fig = plt.figure(figsize=cm2inch(12,12))\n",
    "limz = {'absolute':([0,1],[0,1]), 'positive':([0,1],[0,1]), \n",
    "        'negative':([0,-1],[0,0.6]), 'neg-pos':([-.5,.5],[0,1])}\n",
    "xlabz = {'absolute':'Absolute percent error of mass', \n",
    "         'positive':'Positive error of mass (percent)', \n",
    "         'negative':'Negative error of mass (percent)',\n",
    "         'neg-pos':'Percent error of mass'}\n",
    "yvalues={}\n",
    "plotdata={}\n",
    "for iplot, error_type in enumerate(['absolute', 'positive', 'negative']):\n",
    "\n",
    "    plot_df = pd.DataFrame({model_label:total_mass_error[error_type][model_label] for model_label in models})  \n",
    "    plotdata[error_type] = np.sort(plot_df[~pd.isnull(plot_df)], axis=0)\n",
    "    \n",
    "    if error_type == 'absolute':\n",
    "        \n",
    "        for model in models:\n",
    "            yvalues[model] = list(range(len(total_mass_error[error_type][model])))\n",
    "            for i, _ in enumerate(yvalues[model]):\n",
    "                yvalues[model][i] = yvalues[model][i]/len(yvalues[model])        \n",
    "        \n",
    "        ax = fig.add_subplot(2, 2, 1)\n",
    "        ax.plot(pd.DataFrame(data=plotdata[error_type], columns=model_label_list), \n",
    "                             yvalues[model][:len(plotdata[error_type])])\n",
    "        ax.set_xlim(limz[error_type][0])\n",
    "        ax.set_ylim(limz[error_type][1])\n",
    "        ax.set_xlabel(xlabz[error_type])\n",
    "        ax.set_ylabel(\"frequency\")\n",
    "        #plt.title(\"Abs. Percent Mass Error\")\n",
    "        plt.legend(model_label_list, fontsize=5.5)\n",
    "\n",
    "    \n",
    "combined_pos_neg_error = {}\n",
    "for i, model in enumerate(models):\n",
    "    combined_pos_neg_error[model] = list(np.append(plotdata['negative'][:,i], plotdata['positive'][:,i]))\n",
    "plotdata2 = pd.DataFrame(combined_pos_neg_error)\n",
    "    \n",
    "ax = fig.add_subplot(2, 2, 2)\n",
    "for model in models:\n",
    "    yvalues[model] = list(range(plotdata2[model].shape[0]))\n",
    "    for i, _ in enumerate(yvalues[model]):\n",
    "        yvalues[model][i] = yvalues[model][i]/len(yvalues[model])\n",
    "# plot_df = pd.DataFrame({model_label:combined_pos_neg_error[model] for model in models})    \n",
    "plotdata['neg-pos'] = np.sort(plotdata2[~pd.isnull(plotdata2)], axis=0)\n",
    "ax.plot(pd.DataFrame(data=plotdata['neg-pos'], columns=model_label_list), \n",
    "        yvalues[model][:len(plotdata['neg-pos'])])\n",
    "ax.set_xlim(limz['neg-pos'][0])\n",
    "ax.set_ylim(limz['neg-pos'][1])\n",
    "ax.set_xlabel(xlabz['neg-pos'])\n",
    "plt.legend(model_label_list)\n",
    "\n",
    "ax = fig.add_subplot(2, 2, 4)\n",
    "for flow in flows:\n",
    "    if flow == 'obs':\n",
    "        ax.plot(cumulative_mass_all[flow], label=labelz[flow], c='k')\n",
    "    else:\n",
    "        ax.plot(cumulative_mass_all[flow], label=labelz[flow])\n",
    "#ax2 = ax.twinx()\n",
    "ax2.plot(cumulative_mass_all['precip'], '--', c='k', label='Precipitation \\n (right)')\n",
    "ax.set_title(\"Total water across basins\", fontsize=6)\n",
    "ax.set_ylabel('Total water (runoff) [mm]')\n",
    "#ax2.set_ylabel('Total prcipiration [mm]', c='k')\n",
    "ax.set_xlabel('Simulation time (days)')\n",
    "ax.set_ylim([3.6e6,5e6])\n",
    "ax.set_xlim([5000,len(cumulative_mass_all[flow])])\n",
    "ax.legend()\n",
    "#ax2.legend(loc='lower right')\n",
    "\n",
    "ax = fig.add_subplot(2, 2, 3)\n",
    "error_plot_df.plot.bar(ax=ax)\n",
    "ax.set_xticklabels(['absolute', 'positive', 'negative'], rotation = 0)\n",
    "ax.set_ylabel(\"Mean percent mass error\")\n",
    "\n",
    "fig.tight_layout(pad=2.0)\n",
    "fig.savefig('../figs/mass_error_frequency_nldas.pdf', dpi=600)\n",
    "fig.savefig('../figs/mass_error_frequency_nldas.png', dpi=600)\n",
    "plt.show()\n",
    "plt.close()"
   ]
  },
  {
   "cell_type": "code",
   "execution_count": 42,
   "metadata": {},
   "outputs": [
    {
     "data": {
      "text/plain": [
       "<matplotlib.collections.PathCollection at 0x7fd165ee3150>"
      ]
     },
     "execution_count": 42,
     "metadata": {},
     "output_type": "execute_result"
    },
    {
     "data": {
      "image/png": "[encoded data removed]",
      "text/plain": [
       "<Figure size 432x288 with 1 Axes>"
      ]
     },
     "metadata": {
      "needs_background": "light"
     },
     "output_type": "display_data"
    }
   ],
   "source": [
    "\n",
    "plt.scatter(cumulative_mass_all['lstm'], cumulative_mass_all['nwm'])"
   ]
  },
  {
   "cell_type": "code",
   "execution_count": 43,
   "metadata": {},
   "outputs": [
    {
     "data": {
      "text/plain": [
       "array([3, 5, 7])"
      ]
     },
     "execution_count": 43,
     "metadata": {},
     "output_type": "execute_result"
    }
   ],
   "source": [
    "np.array([1,2,3])+np.array([2,3,4])"
   ]
  },
  {
   "cell_type": "code",
   "execution_count": 44,
   "metadata": {},
   "outputs": [],
   "source": [
    "plot_start = 0\n",
    "plot_n = 50\n",
    "plot_end = plot_n\n",
    "for i in range(int(cumulative_mass_all[flow].shape[0]/50)-1):\n",
    "    for flow in flows:\n",
    "        plt.plot(cumulative_mass_all[flow][plot_start:plot_end], label=flow)\n",
    "    plt.legend()\n",
    "    plot_start+=plot_n\n",
    "    plot_end+=plot_n\n",
    "    plt.savefig('/home/jmframe/temp_mclstm_mass_figs/zplotz_{}.png'.format(i))\n",
    "#    plt.show()\n",
    "    plt.close()"
   ]
  },
  {
   "cell_type": "code",
   "execution_count": 45,
   "metadata": {},
   "outputs": [
    {
     "data": {
      "text/plain": [
       "125"
      ]
     },
     "execution_count": 45,
     "metadata": {},
     "output_type": "execute_result"
    }
   ],
   "source": [
    "int(cumulative_mass_all[flow].shape[0]/50)-1"
   ]
  },
  {
   "cell_type": "code",
   "execution_count": null,
   "metadata": {},
   "outputs": [],
   "source": []
  }
 ],
 "metadata": {
  "kernelspec": {
   "display_name": "Python 3",
   "language": "python",
   "name": "python3"
  },
  "language_info": {
   "codemirror_mode": {
    "name": "ipython",
    "version": 3
   },
   "file_extension": ".py",
   "mimetype": "text/x-python",
   "name": "python",
   "nbconvert_exporter": "python",
   "pygments_lexer": "ipython3",
   "version": "3.7.10"
  }
 },
 "nbformat": 4,
 "nbformat_minor": 4
}
