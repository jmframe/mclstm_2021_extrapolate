{
 "cells": [
  {
   "cell_type": "code",
   "execution_count": 1,
   "metadata": {},
   "outputs": [],
   "source": [
    "import numpy as np\n",
    "import pandas as pd\n",
    "import pickle as pkl\n",
    "import xarray as xr\n",
    "import copy\n",
    "import os\n",
    "import sys\n",
    "sys.path.append(os.path.realpath('../split-data/'))\n",
    "import return_period_tools as tools\n",
    "import metrics\n",
    "import random\n",
    "import matplotlib as mpl\n",
    "from matplotlib import rcParams\n",
    "rcParams['font.family'] = 'sans-serif'\n",
    "rcParams['font.sans-serif'] = ['Tahoma']\n",
    "font = {'family' : 'sans-serif','size'   : 6}\n",
    "mpl.rc('font', **font)\n",
    "mpl.rcParams['axes.labelsize'] = 6\n",
    "mpl.rcParams['xtick.labelsize'] = 6\n",
    "mpl.rcParams['ytick.labelsize'] = 6\n",
    "mpl.rcParams['legend.fontsize'] = 5\n",
    "mpl.rcParams['lines.markersize'] = 1.5\n",
    "mpl.rcParams['lines.linewidth'] = 1.5\n",
    "mpl.rcParams[\"axes.titlesize\"] = 8\n",
    "mpl.rcParams[\"grid.color\"] = \"#dddddd\"\n",
    "mpl.rcParams[\"grid.linewidth\"] = 0.5\n",
    "import matplotlib.pyplot as plt\n",
    "from mpl_toolkits.axes_grid1 import make_axes_locatable\n"
   ]
  },
  {
   "cell_type": "code",
   "execution_count": 2,
   "metadata": {},
   "outputs": [],
   "source": [
    "#Utility function to create a matplotlib figure with cm sizes\n",
    "\n",
    "def cm2inch(width: float, height: float) -> tuple:\n",
    "    \"\"\"Converts figure size from centimeters to inch.\n",
    "    \n",
    "    Parameters\n",
    "    ----------\n",
    "    width : float\n",
    "        Width of figure in centimeters\n",
    "    height : float\n",
    "        Height of figure in centimeters\n",
    "    \n",
    "    Returns\n",
    "    -------\n",
    "    Tuple[float, float]\n",
    "        Tuple containing width and height in inches\n",
    "    \"\"\"\n",
    "    inch = 2.54\n",
    "    return (width / inch, height / inch)"
   ]
  },
  {
   "cell_type": "code",
   "execution_count": 3,
   "metadata": {},
   "outputs": [
    {
     "data": {
      "text/plain": [
       "'0.16.1'"
      ]
     },
     "execution_count": 3,
     "metadata": {},
     "output_type": "execute_result"
    }
   ],
   "source": [
    "xr.__version__"
   ]
  },
  {
   "cell_type": "code",
   "execution_count": 4,
   "metadata": {},
   "outputs": [],
   "source": [
    "# Convert flow to   CFS mm -> ft     km^2 -> ft^2    hr->s\n",
    "conversion_factor = 0.00328084 * 10763910.41671 / 3600 / 24"
   ]
  },
  {
   "cell_type": "code",
   "execution_count": 5,
   "metadata": {},
   "outputs": [],
   "source": [
    "# Camels attributes with RI information\n",
    "dataName = '../data/camels_attributes.csv'\n",
    "# load the data with pandas\n",
    "pd_attributes = pd.read_csv(dataName, sep=',', index_col='gauge_id')\n",
    "\n",
    "# Add the basin ID as a 8 element string with a leading zero if neccessary\n",
    "basin_id_str = []\n",
    "for a in pd_attributes.index.values:\n",
    "    basin_id_str.append(str(a).zfill(8))\n",
    "pd_attributes['basin_id_str'] = basin_id_str"
   ]
  },
  {
   "cell_type": "code",
   "execution_count": 6,
   "metadata": {
    "scrolled": true
   },
   "outputs": [
    {
     "name": "stdout",
     "output_type": "stream",
     "text": [
      "nldas\n",
      "    opening  frequency_analysis_dict_time_split2_nldas.pkl\n",
      "    opening  peak_annual_flows_dict_time_split2_nldas.pkl\n",
      "    opening  frequency_analysis_dict_return_period_split_nldas.pkl\n",
      "    opening  peak_annual_flows_dict_return_period_split_nldas.pkl\n",
      "daymet\n",
      "    opening  frequency_analysis_dict_time_split2_daymet.pkl\n",
      "    opening  peak_annual_flows_dict_time_split2_daymet.pkl\n",
      "    opening  frequency_analysis_dict_return_period_split_daymet.pkl\n",
      "    opening  peak_annual_flows_dict_return_period_split_daymet.pkl\n"
     ]
    }
   ],
   "source": [
    "analysis_dict_all={forcing_type:{} for forcing_type in ['nldas', 'daymet']}\n",
    "peak_flows_dict={forcing_type:{} for forcing_type in ['nldas', 'daymet']}\n",
    "for forcing_type in ['nldas', 'daymet']:\n",
    "    print(forcing_type)\n",
    "    #-------------------------------------------------------------------------------------------------\n",
    "    frequency_analysis_dict_time_split2 = 'frequency_analysis_dict_time_split2_{}.pkl'.format(forcing_type)\n",
    "    peak_annual_flows_dict_time_split2 = 'peak_annual_flows_dict_time_split2_{}.pkl'.format(forcing_type)\n",
    "    frequency_analysis_dict_return_period_split = 'frequency_analysis_dict_return_period_split_{}.pkl'.format(forcing_type)\n",
    "    peak_annual_flows_dict_return_period_split = 'peak_annual_flows_dict_return_period_split_{}.pkl'.format(forcing_type)\n",
    "    #-------------------------------------------------------------------------------------------------\n",
    "\n",
    "    print('    opening ', frequency_analysis_dict_time_split2)\n",
    "    with open(frequency_analysis_dict_time_split2, 'rb') as fb:\n",
    "        analysis_dict_all[forcing_type]['time_split2'] = pkl.load(fb)\n",
    "        \n",
    "    print('    opening ', peak_annual_flows_dict_time_split2)\n",
    "    with open(peak_annual_flows_dict_time_split2, 'rb') as fb:\n",
    "        peak_flows_dict[forcing_type]['time_split2'] = pkl.load(fb)\n",
    "\n",
    "    print('    opening ', frequency_analysis_dict_return_period_split)\n",
    "    with open(frequency_analysis_dict_return_period_split, 'rb') as fb:\n",
    "        analysis_dict_all[forcing_type]['return_period_split'] = pkl.load(fb)\n",
    "        \n",
    "    print('    opening ', peak_annual_flows_dict_return_period_split)\n",
    "    with open(peak_annual_flows_dict_return_period_split, 'rb') as fb:\n",
    "        peak_flows_dict[forcing_type]['return_period_split'] = pkl.load(fb)"
   ]
  },
  {
   "cell_type": "code",
   "execution_count": 7,
   "metadata": {},
   "outputs": [
    {
     "name": "stdout",
     "output_type": "stream",
     "text": [
      "498\n"
     ]
    }
   ],
   "source": [
    "basin_list = list(analysis_dict_all['nldas']['return_period_split'].keys())\n",
    "print(len(basin_list))"
   ]
  },
  {
   "cell_type": "code",
   "execution_count": 8,
   "metadata": {},
   "outputs": [],
   "source": [
    "#-------------------------------------------------------------------------------------------------\n",
    "# Set up lists to use in loops\n",
    "models = ['nwm', 'lstm', 'mc', 'sac']\n",
    "flows = ['nwm', 'lstm', 'mc', 'sac', 'obs']\n",
    "models_obs_ri = ['nwm', 'lstm', 'mc', 'sac', 'obs', 'ri']\n",
    "models_ri = ['nwm', 'lstm', 'mc', 'sac', 'ri']\n",
    "#-------------------------------------------------------------------------------------------------\n",
    "\n",
    "all_metrics = ['NSE','MSE','RMSE','KGE','Alpha-NSE','Pearson-r','Beta-NSE','FHV','FMS','FLV','Peak-Timing',\n",
    "               'beta-abs', 'peakQ', 'peakRI', 'peakT', 'peakQ-perc', 'peakRI-perc', 'peakT-abs']"
   ]
  },
  {
   "cell_type": "code",
   "execution_count": 9,
   "metadata": {},
   "outputs": [],
   "source": [
    "analysis_dict={forcing_type:{} for forcing_type in ['nldas', 'daymet']}\n",
    "\n",
    "for forcing_type in ['nldas', 'daymet']:\n",
    "    analysis_dict[forcing_type]['time_split2'] = {metric:{model:[] for model in models_ri} for metric in all_metrics}\n",
    "    analysis_dict[forcing_type]['return_period_split'] = {metric:{model:[] for model in models_ri} for metric in all_metrics}\n",
    "\n",
    "    for ib, basin_0str in enumerate(list(analysis_dict_all[forcing_type]['return_period_split'].keys())):\n",
    "        for metric in all_metrics:\n",
    "            for model in models_ri:\n",
    "                analysis_dict[forcing_type]['return_period_split'][metric][model].extend(analysis_dict_all[forcing_type]['return_period_split'][basin_0str][metric][model])\n",
    "\n",
    "    for ib, basin_0str in enumerate(list(analysis_dict_all[forcing_type]['time_split2'].keys())):\n",
    "        for metric in all_metrics:\n",
    "            for model in models_ri:\n",
    "                analysis_dict[forcing_type]['time_split2'][metric][model].extend(analysis_dict_all[forcing_type]['time_split2'][basin_0str][metric][model])"
   ]
  },
  {
   "cell_type": "code",
   "execution_count": 10,
   "metadata": {},
   "outputs": [],
   "source": [
    "ylimz_bar = {'NSE':[0,1], 'MSE':[0,7], 'RMSE':[0,3.5], 'KGE':[0,1], 'Alpha-NSE':[0,1], 'Pearson-r':[0,1], \n",
    "         'Beta-NSE':[-0.1,0.1], 'FHV':[-40,10], 'FMS':[-45,0],'FLV':[-60,60], 'Peak-Timing':[0,1],\n",
    "          'beta-abs':[0,0.25], 'peakQ':[-7500, 0], 'peakRI':[-300,150], 'peakT':[-1,1], \n",
    "          'peakQ-perc':[0,0.7], 'peakRI-perc':[0,1], 'peakT-abs':[0,12]}\n",
    "ylimz_box = {'NSE':[0,1], 'MSE':[0,7], 'RMSE':[0,3.5], 'KGE':[0,1], 'Alpha-NSE':[0,1], 'Pearson-r':[0,1], \n",
    "         'Beta-NSE':[-0.1,0.1], 'FHV':[-40,10], 'FMS':[-45,0],'FLV':[-60,60], 'Peak-Timing':[0,1],\n",
    "          'beta-abs':[0,0.25], 'peakQ':[-7500, 0], 'peakRI':[-300,150], 'peakT':[-1,1], \n",
    "          'peakQ-perc':[0,1], 'peakRI-perc':[0,1], 'peakT-abs':[0,12]}\n",
    "xlimz_freq = {'NSE':[-1,1], 'MSE':[0,1], 'RMSE':[0,0.7], 'KGE':[-1,1], 'Alpha-NSE':[0,1], 'Pearson-r':[0,1], \n",
    "         'Beta-NSE':[-0.4,0.1], 'FHV':[-60,60], 'FMS':[0,-60],'FLV':[-25,25], 'Peak-Timing':[-1,1],\n",
    "          'beta-abs':[0,0.4], 'peakQ':[-20000, 0], 'peakRI':[-300,150], 'peakT':[-1,1], \n",
    "          'peakQ-perc':[0,2], 'peakRI-perc':[0,1.3], 'peakT-abs':[0,2.2]}\n",
    "namz = {'NSE':'Nash–Sutcliffe efficiency', 'MSE':'Mean squared error', 'RMSE':'Root mean squared error', \n",
    "        'KGE':'Kling-Gupta efficiency', 'Alpha-NSE':'Alpha-NSE: Flow variance', 'Pearson-r':'Pearson-r', \n",
    "         'Beta-NSE':'Beta-NSE: Volume bias', 'FHV':'FHV: Top 2 % peak flow bias', \n",
    "         'FMS':'FMS: Bias of FDC midsegment slope','FLV':'FLV: 30 % low flow bias', \n",
    "         'Peak-Timing':'Peak-Timing error','beta-abs':'Absolute volume bias', 'peakQ':'Peak flow error', \n",
    "         'peakRI':'Peak recurrence interval error', 'peakT':'Timing error of peak flow', \n",
    "         'peakQ-perc':'Abs. percent error of peak flow', 'peakRI-perc':'Abs. percent error of recurrence', \n",
    "         'peakT-abs':'Absolute timing error of peak flow'}\n",
    "legend_locz = {'NSE':'upper right', 'MSE':'upper left', 'RMSE':'upper left', \n",
    "        'KGE':'upper right', 'Alpha-NSE':'lower right', 'Pearson-r':'lower right', \n",
    "         'Beta-NSE':'lower left', 'FHV':'lower left', 'FMS':'lower right','FLV':'upper right', \n",
    "         'Peak-Timing':'upper right','beta-abs':'upper right', 'peakQ':'lower left', \n",
    "         'peakRI':'lower left', 'peakT':'lower left', \n",
    "         'peakQ-perc':'upper left', 'peakRI-perc':'upper left', 'peakT-abs':'upper center'}\n",
    "colz = {'NSE':2, 'MSE':1, 'RMSE':1, 'KGE':2, 'Alpha-NSE':2, 'Pearson-r':1, \n",
    "         'Beta-NSE':1, 'FHV':1, 'FMS':1,'FLV':2, 'Peak-Timing':1,\n",
    "          'beta-abs':2, 'peakQ':1, 'peakRI':1, 'peakT':1, \n",
    "          'peakQ-perc':1, 'peakRI-perc':1, 'peakT-abs':1}"
   ]
  },
  {
   "cell_type": "code",
   "execution_count": 11,
   "metadata": {},
   "outputs": [],
   "source": [
    "model_label_list = ['LSTM', 'MC-LSTM', 'SAC-SMA', 'NWM*']\n",
    "model_name_list = ['lstm', 'mc', 'sac', 'nwm']\n",
    "model_colors = ['b', 'orange', 'red', 'red']\n",
    "model_style = ['-', '-', '-', '--']\n",
    "model_name_label_dict = {model_name:model_label for model_name, model_label in \\\n",
    "                         zip(model_name_list,model_label_list)}\n",
    "model_ri_list = ['ri', 'lstm', 'mc', 'sac', 'nwm']\n",
    "train_types = ['time_split2','return_period_split']\n",
    "\n",
    "base_metrics = metrics.get_available_metrics()"
   ]
  },
  {
   "cell_type": "code",
   "execution_count": 12,
   "metadata": {},
   "outputs": [],
   "source": [
    "plot_metrics = ['NSE','KGE','Alpha-NSE','Pearson-r','Beta-NSE','FHV','FMS','FLV','Peak-Timing']\n",
    "ppm = {'NSE':'NSE','KGE':'KGE','Alpha-NSE':'Alpha-NSE',\n",
    "       'Pearson-r':'Pearson-r','Beta-NSE':'Beta-NSE',\n",
    "       'FHV':'FHV','FMS':'FMS','FLV':'FLV','peakT-abs':'Peak-Timing'}"
   ]
  },
  {
   "cell_type": "code",
   "execution_count": 19,
   "metadata": {},
   "outputs": [],
   "source": [
    "def set_box_color(bp, color, linestylez='-', linewidthz=2):\n",
    "    plt.setp(bp['boxes'], color=color, linestyle=linestylez,linewidth=linewidthz)\n",
    "    plt.setp(bp['whiskers'], color=color, linestyle=linestylez,linewidth=linewidthz)\n",
    "    plt.setp(bp['caps'], color=color, linestyle=linestylez,linewidth=linewidthz)\n",
    "    plt.setp(bp['medians'], color=color, linestyle=linestylez,linewidth=linewidthz)"
   ]
  },
  {
   "cell_type": "code",
   "execution_count": 20,
   "metadata": {},
   "outputs": [
    {
     "name": "stdout",
     "output_type": "stream",
     "text": [
      "Nash–Sutcliffe efficiency\n"
     ]
    },
    {
     "data": {
      "image/png": "[encoded data removed]",
      "text/plain": [
       "<Figure size 340.157x226.772 with 1 Axes>"
      ]
     },
     "metadata": {
      "needs_background": "light"
     },
     "output_type": "display_data"
    },
    {
     "data": {
      "image/png": "[encoded data removed]",
      "text/plain": [
       "<Figure size 340.157x226.772 with 1 Axes>"
      ]
     },
     "metadata": {
      "needs_background": "light"
     },
     "output_type": "display_data"
    },
    {
     "name": "stdout",
     "output_type": "stream",
     "text": [
      "Abs. percent error of peak flow\n"
     ]
    },
    {
     "data": {
      "image/png": "[encoded data removed]",
      "text/plain": [
       "<Figure size 340.157x226.772 with 1 Axes>"
      ]
     },
     "metadata": {
      "needs_background": "light"
     },
     "output_type": "display_data"
    },
    {
     "data": {
      "image/png": "[encoded data removed]",
      "text/plain": [
       "<Figure size 340.157x226.772 with 1 Axes>"
      ]
     },
     "metadata": {
      "needs_background": "light"
     },
     "output_type": "display_data"
    }
   ],
   "source": [
    "count_missing = {forcing_type:{train_type:{} for train_type in train_types} for forcing_type in ['nldas', 'daymet']}\n",
    "for forcing_type in ['nldas']:\n",
    "\n",
    "    if forcing_type == 'nldas':\n",
    "        model_label_list = ['LSTM', 'MC-LSTM', 'SAC-SMA', 'NWM*']\n",
    "        model_name_list = ['lstm', 'mc', 'sac', 'nwm']\n",
    "        model_ri_list = ['ri', 'lstm', 'mc', 'sac', 'nwm']\n",
    "        flows = ['lstm', 'mc', 'sac', 'nwm', 'obs']\n",
    "    if forcing_type == 'daymet':\n",
    "        model_label_list = ['LSTM', 'MC-LSTM', 'SAC-SMA']\n",
    "        model_name_list = ['lstm', 'mc', 'sac']\n",
    "        model_ri_list = ['ri', 'lstm', 'mc', 'sac']\n",
    "        flows = ['lstm', 'mc', 'sac', 'obs']\n",
    "    \n",
    "    model_name_label_dict = {model_name:model_label for model_name, model_label in \\\n",
    "                             zip(model_name_list,model_label_list)}\n",
    "    train_types = ['time_split2','return_period_split']\n",
    "    text_locs = {'NSE':[[-0.55, 0.9],[0.6, 0.9]], 'peakQ-perc':[[-0.55, 0.55],[0.6, 0.55]]}\n",
    "\n",
    "    ri_list = {}\n",
    "#    ri_bins = {}\n",
    "    \n",
    "    #for metric in all_metrics:\n",
    "    for metric in  ['NSE', 'peakQ-perc']:\n",
    "        print(namz[metric])\n",
    "        if True:\n",
    "            bin_max=[5, 25,50,100,1000000000]\n",
    "            bin_names=['1-5 \\n (n=5969)', '5-25 \\n (n=1401)','25-50 \\n (n=199)','50-100 \\n (n=104)','100+ \\n (n=94)']\n",
    "        else:\n",
    "            bin_max=[5,1000000000]\n",
    "            bin_names=['1-5 \\n (n=5969)', '5+ \\n (n=1798)']\n",
    "            \n",
    "        ri_list[metric] = {train_type:{model_label:{bin_name:[] for bin_name in bin_names} for \\\n",
    "                               model_label in model_label_list} for train_type in train_types}\n",
    "        ri_bins[metric] = {train_type:{model_label:{bin_name:0 for bin_name in bin_names} for \\\n",
    "                               model_label in model_label_list} for train_type in train_types}\n",
    "        for train_type in train_types:\n",
    "            ri_bins[metric][train_type]['count'] = {bin_name:0 for bin_name in bin_names}\n",
    "\n",
    "        for split in ['time_split2','return_period_split']:\n",
    "            count_missing[forcing_type][split][metric] = {model_ri:0 for model_ri in model_ri_list}\n",
    "            for i, ri in enumerate(analysis_dict[forcing_type][split][metric]['ri']):\n",
    "                if analysis_dict[forcing_type][split][metric]['ri'][i] is None:\n",
    "                    continue\n",
    "\n",
    "                skip_this=False\n",
    "                for icheck in model_ri_list:\n",
    "                    if analysis_dict[forcing_type][split][metric][icheck][i] is None:\n",
    "                        skip_this=True\n",
    "                        count_missing[forcing_type][split][metric][icheck]+=1\n",
    "                    if np.isinf(analysis_dict[forcing_type][split][metric][icheck][i]):\n",
    "                        skip_this=True\n",
    "                        count_missing[forcing_type][split][metric][icheck]+=1\n",
    "                    if isinstance(analysis_dict[forcing_type][split][metric][icheck][i], str):\n",
    "                        skip_this=True\n",
    "                        count_missing[forcing_type][split][metric][icheck]+=1\n",
    "                    if analysis_dict[forcing_type][split][metric][icheck][i] != \\\n",
    "                            analysis_dict[forcing_type][split][metric][icheck][i]:\n",
    "                        skip_this=True\n",
    "                        count_missing[forcing_type][split][metric][icheck]+=1\n",
    "\n",
    "                if skip_this:\n",
    "                    continue\n",
    "                    skip_this=False\n",
    "\n",
    "                for maxv,bin_name in zip(bin_max, bin_names):\n",
    "                    if ri<maxv:\n",
    "                        ri_bins[metric][split]['count'][bin_name]+=1\n",
    "                        for model_name, model_label in zip(model_name_list, model_label_list):\n",
    "                            ri_list[metric][split][model_label][bin_name].append( \\\n",
    "                                  analysis_dict[forcing_type][split][metric][model_name][i])\n",
    "                        break\n",
    "\n",
    "\n",
    "\n",
    "        for split in ['time_split2','return_period_split']:\n",
    "            fig = plt.figure(figsize=cm2inch(12,8))\n",
    "            plt.ylabel(namz[metric])\n",
    "            plt.xlabel('Return period (years)')\n",
    "            if split == 'return_period_split':\n",
    "                plt.axvline(x=0.5, color='k', linestyle='--')\n",
    "            x = np.arange(len(list(bin_names)))  # the label locations\n",
    "            data_to_plot = [ri_list[metric][split]['LSTM'][bin_name] for bin_name in bin_names]\n",
    "            bp_lstm = plt.boxplot(data_to_plot, positions=x - 2*width, sym='', widths=0.1)\n",
    "            data_to_plot = [ri_list[metric][split]['MC-LSTM'][bin_name] for bin_name in bin_names]\n",
    "            bp_mc = plt.boxplot(data_to_plot, positions=x - width, sym='', widths=0.1)\n",
    "            data_to_plot = [ri_list[metric][split]['SAC-SMA'][bin_name] for bin_name in bin_names]\n",
    "            bp_sac = plt.boxplot(data_to_plot, positions=x, sym='', widths=0.1)\n",
    "            data_to_plot = [ri_list[metric][split]['NWM*'][bin_name] for bin_name in bin_names]\n",
    "            bp_nwm = plt.boxplot(data_to_plot, positions=x + width, sym='', widths=0.1)\n",
    "            set_box_color(bp_lstm, '#1f77b4') # colors are from http://colorbrewer2.org/\n",
    "            set_box_color(bp_mc, '#ff7f0e')\n",
    "            set_box_color(bp_sac, '#2ca02c') # colors are from http://colorbrewer2.org/\n",
    "            set_box_color(bp_nwm, '#bdbdbd', '--', linewidthz=1)\n",
    "\n",
    "            # draw temporary red and blue lines and use them to create a legend\n",
    "            plt.plot([], c='#1f77b4', label='LSTM')\n",
    "            plt.plot([], c='#ff7f0e', label='MC-LSTM')\n",
    "            plt.plot([], c='#2ca02c', label='SAC-SMA')\n",
    "            plt.plot([], c='#bdbdbd', label='NWM*')\n",
    "            plt.legend()\n",
    "\n",
    "            plt.xticks(range(0, len(bin_names)), bin_names)\n",
    "            plt.tight_layout()\n",
    "\n",
    "            fig.tight_layout(pad=1.0)\n",
    "            plt.show()\n",
    "            fig.savefig('../figs/boxxs{}_{}.pdf'.format(metric, split), dpi=600)\n",
    "            fig.savefig('../figs/boxxs{}_{}.png'.format(metric, split), dpi=600)\n",
    "            plt.close()\n",
    "        "
   ]
  },
  {
   "cell_type": "code",
   "execution_count": 16,
   "metadata": {},
   "outputs": [
    {
     "name": "stderr",
     "output_type": "stream",
     "text": [
      "/home/jmframe/programs/anaconda3/envs/mc-paper/lib/python3.7/site-packages/ipykernel_launcher.py:95: UserWarning: FixedFormatter should only be used together with FixedLocator\n",
      "findfont: Font family ['sans-serif'] not found. Falling back to DejaVu Sans.\n"
     ]
    },
    {
     "data": {
      "image/png": "[encoded data removed]",
      "text/plain": [
       "<Figure size 340.157x340.157 with 9 Axes>"
      ]
     },
     "metadata": {
      "needs_background": "light"
     },
     "output_type": "display_data"
    },
    {
     "data": {
      "image/png": "[encoded data removed]",
      "text/plain": [
       "<Figure size 340.157x340.157 with 9 Axes>"
      ]
     },
     "metadata": {
      "needs_background": "light"
     },
     "output_type": "display_data"
    }
   ],
   "source": [
    "count_missing = {forcing_type:{train_type:{} for train_type in train_types} for forcing_type in ['nldas', 'daymet']}\n",
    "\n",
    "for forcing_type in ['nldas']:\n",
    "    \n",
    "    if forcing_type == 'nldas':\n",
    "        model_label_list = ['LSTM', 'MC-LSTM', 'SAC-SMA', 'NWM*']\n",
    "        models = models = ['lstm', 'mc', 'sac', 'nwm']\n",
    "        flows = ['lstm', 'mc', 'sac', 'nwm', 'obs']\n",
    "    if forcing_type == 'daymet':\n",
    "        model_label_list = ['LSTM', 'MC-LSTM', 'SAC-SMA']\n",
    "        models = models = ['lstm', 'mc', 'sac']\n",
    "        flows = ['lstm', 'mc', 'sac', 'obs']\n",
    "\n",
    "\n",
    "    # Big tables for each training type\n",
    "\n",
    "    for train_type in train_types:\n",
    "\n",
    "        fig = plt.figure(figsize=cm2inch(12,12))\n",
    "\n",
    "        ri_list = {metric:{} for metric in all_metrics}\n",
    "        ri_bins = {metric:{} for metric in all_metrics}\n",
    "        for imetric, metric in enumerate(plot_metrics):\n",
    "            bin_max=[5, 25,50,100,1000000000]\n",
    "            bin_names=['1-5', '5-25','25-50','50-100','100+']\n",
    "            ri_list[metric][train_type] = {model_label:{bin_name:[] for bin_name in bin_names} for \\\n",
    "                                           model_label in model_label_list}\n",
    "            ri_bins[metric][train_type] = {model_label:{bin_name:[] for bin_name in bin_names} for \\\n",
    "                                           model_label in model_label_list}\n",
    "\n",
    "            ri_bins[metric][train_type]['count'] = {bin_name:0 for bin_name in bin_names}\n",
    "\n",
    "            count_missing[forcing_type][train_type][metric] = {model_ri:0 for model_ri in model_ri_list}\n",
    "            for i, ri in enumerate(analysis_dict[forcing_type][train_type][metric]['ri']):\n",
    "                if analysis_dict[forcing_type][train_type][metric]['ri'][i] is None:\n",
    "                    continue\n",
    "\n",
    "                skip_this=False\n",
    "                for icheck in model_ri_list:\n",
    "                    if analysis_dict[forcing_type][train_type][metric][icheck][i] is None:\n",
    "                        skip_this=True\n",
    "                        count_missing[forcing_type][train_type][metric][icheck]+=1\n",
    "                    if np.isinf(analysis_dict[forcing_type][train_type][metric][icheck][i]):\n",
    "                        skip_this=True\n",
    "                        count_missing[forcing_type][train_type][metric][icheck]+=1\n",
    "                    if isinstance(analysis_dict[forcing_type][train_type][metric][icheck][i], str):\n",
    "                        skip_this=True\n",
    "                        count_missing[forcing_type][train_type][metric][icheck]+=1\n",
    "                    if analysis_dict[forcing_type][train_type][metric][icheck][i] != \\\n",
    "                                         analysis_dict[forcing_type][train_type][metric][icheck][i]:\n",
    "                        skip_this=True\n",
    "                        count_missing[forcing_type][train_type][metric][icheck]+=1\n",
    "\n",
    "                if skip_this:\n",
    "                    continue\n",
    "                    skip_this=False\n",
    "\n",
    "                for maxv,bin_name in zip(bin_max, bin_names):\n",
    "                    if ri<maxv:\n",
    "                        ri_bins[metric][train_type]['count'][bin_name]+=1\n",
    "                        for model_name, model_label in zip(model_name_list, model_label_list):\n",
    "                            ri_list[metric][train_type][model_label][bin_name].append( \\\n",
    "                                                        analysis_dict[forcing_type][train_type][metric][model_name][i])\n",
    "                        break\n",
    "\n",
    "\n",
    "            for maxv,bin_name in zip(bin_max, bin_names):\n",
    "                if ri_bins[metric][train_type]['count'][bin_name] < 1:\n",
    "                    continue\n",
    "                for model_label in model_label_list:\n",
    "                    if metric in ['Peak-Timing', 'peakT-abs']:\n",
    "                        ri_bins[metric][train_type][model_label][bin_name] = np.nanmean( \\\n",
    "                                                    ri_list[metric][train_type][model_label][bin_name])\n",
    "                    else:\n",
    "                        ri_bins[metric][train_type][model_label][bin_name] = np.nanmedian( \\\n",
    "                                                    ri_list[metric][train_type][model_label][bin_name])\n",
    "\n",
    "            ax = fig.add_subplot(3, 3, imetric+1)    \n",
    "\n",
    "    #        pd.DataFrame(ri_bins[metric][train_type])[model_label_list].plot.bar(ax=ax)\n",
    "            plt_df = pd.DataFrame(ri_bins[metric][train_type])[model_label_list]\n",
    "            x = np.arange(len(list(plt_df.index.values)))  # the label locations\n",
    "            width = 0.15  # the width of the bars\n",
    "            bar1 = ax.bar(x - 2*width, plt_df.loc[:,'LSTM'], width, label='LSTM')\n",
    "            bar2 = ax.bar(x - width, plt_df.loc[:,'MC-LSTM'], width, label='MC-LSTM')\n",
    "            bar3 = ax.bar(x, plt_df.loc[:,'SAC-SMA'], width, label='SAC-SMA')\n",
    "            if forcing_type == 'nldas':\n",
    "                bar4 = ax.bar(x + width, plt_df.loc[:,'NWM*'], width, label='NWM*', \n",
    "                              hatch=\"\\\\\", color='white', edgecolor='black', linewidth=0.5)\n",
    "                \n",
    "            if imetric+1 in [7,8,9]:\n",
    "                # It is only showing three labels. Probably because of space or something. \n",
    "                # So have to hack the labels, cause it tries to show only items 1-3 in the list of 5\n",
    "                x_tix_labz = ['5-25', '1-5','25-50','100+', '50-100'] # I don't know why, but this works...\n",
    "                ax.set_xticklabels(x_tix_labz, rotation = 45)\n",
    "                ax.set_xlabel(\"Return period\")\n",
    "            else:\n",
    "                ax.set_xticklabels([])\n",
    "\n",
    "            ax.set_title(metric)\n",
    "            ax.set_ylim(ylimz_bar[metric])\n",
    "            if metric =='FMS':\n",
    "                ax.legend(fontsize=4, ncol=2, loc='lower right')\n",
    "    #         else:\n",
    "    #             ax.get_legend().remove()\n",
    "\n",
    "            if train_type == \"return_period_split\":\n",
    "                ax.axvline(x=0.5, color='k', linestyle='--', lw=0.3)\n",
    "\n",
    "        fig.tight_layout(pad=1)\n",
    "#         fig.savefig('../figs/bars_{}_training_{}.pdf'.format(train_type, forcing_type), dpi=600)\n",
    "#         fig.savefig('../figs/bars_{}_training_{}.png'.format(train_type, forcing_type), dpi=600)\n",
    "        plt.show()\n",
    "        plt.close()"
   ]
  }
 ],
 "metadata": {
  "kernelspec": {
   "display_name": "Python 3",
   "language": "python",
   "name": "python3"
  },
  "language_info": {
   "codemirror_mode": {
    "name": "ipython",
    "version": 3
   },
   "file_extension": ".py",
   "mimetype": "text/x-python",
   "name": "python",
   "nbconvert_exporter": "python",
   "pygments_lexer": "ipython3",
   "version": "3.7.10"
  }
 },
 "nbformat": 4,
 "nbformat_minor": 4
}
